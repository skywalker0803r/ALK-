{
 "cells": [
  {
   "cell_type": "code",
   "execution_count": 142,
   "metadata": {},
   "outputs": [
    {
     "data": {
      "text/html": [
       "<div>\n",
       "<style scoped>\n",
       "    .dataframe tbody tr th:only-of-type {\n",
       "        vertical-align: middle;\n",
       "    }\n",
       "\n",
       "    .dataframe tbody tr th {\n",
       "        vertical-align: top;\n",
       "    }\n",
       "\n",
       "    .dataframe thead th {\n",
       "        text-align: right;\n",
       "    }\n",
       "</style>\n",
       "<table border=\"1\" class=\"dataframe\">\n",
       "  <thead>\n",
       "    <tr style=\"text-align: right;\">\n",
       "      <th></th>\n",
       "      <th>入口溫度</th>\n",
       "      <th>出口溫度</th>\n",
       "      <th>入口壓力</th>\n",
       "      <th>出口壓力</th>\n",
       "      <th>出口溫度.1</th>\n",
       "      <th>硫酸濃度</th>\n",
       "    </tr>\n",
       "  </thead>\n",
       "  <tbody>\n",
       "    <tr>\n",
       "      <th>2006/09/12</th>\n",
       "      <td>3.1</td>\n",
       "      <td>58.4</td>\n",
       "      <td>0.3</td>\n",
       "      <td>4.8</td>\n",
       "      <td>32.1</td>\n",
       "      <td>90.94</td>\n",
       "    </tr>\n",
       "    <tr>\n",
       "      <th>2006/09/13</th>\n",
       "      <td>3.0</td>\n",
       "      <td>58.3</td>\n",
       "      <td>0.3</td>\n",
       "      <td>4.9</td>\n",
       "      <td>32.4</td>\n",
       "      <td>91.31</td>\n",
       "    </tr>\n",
       "    <tr>\n",
       "      <th>2006/09/14</th>\n",
       "      <td>3.0</td>\n",
       "      <td>58.5</td>\n",
       "      <td>0.3</td>\n",
       "      <td>4.9</td>\n",
       "      <td>32.5</td>\n",
       "      <td>91.15</td>\n",
       "    </tr>\n",
       "    <tr>\n",
       "      <th>2006/09/15</th>\n",
       "      <td>3.0</td>\n",
       "      <td>58.5</td>\n",
       "      <td>0.3</td>\n",
       "      <td>4.9</td>\n",
       "      <td>32.6</td>\n",
       "      <td>91.62</td>\n",
       "    </tr>\n",
       "    <tr>\n",
       "      <th>2006/09/16</th>\n",
       "      <td>3.0</td>\n",
       "      <td>58.8</td>\n",
       "      <td>0.2</td>\n",
       "      <td>4.8</td>\n",
       "      <td>32.0</td>\n",
       "      <td>91.02</td>\n",
       "    </tr>\n",
       "  </tbody>\n",
       "</table>\n",
       "</div>"
      ],
      "text/plain": [
       "            入口溫度  出口溫度  入口壓力  出口壓力  出口溫度.1   硫酸濃度\n",
       "2006/09/12   3.1  58.4   0.3   4.8    32.1  90.94\n",
       "2006/09/13   3.0  58.3   0.3   4.9    32.4  91.31\n",
       "2006/09/14   3.0  58.5   0.3   4.9    32.5  91.15\n",
       "2006/09/15   3.0  58.5   0.3   4.9    32.6  91.62\n",
       "2006/09/16   3.0  58.8   0.2   4.8    32.0  91.02"
      ]
     },
     "execution_count": 142,
     "metadata": {},
     "output_type": "execute_result"
    }
   ],
   "source": [
    "import pandas as pd\n",
    "import matplotlib.pyplot as plt\n",
    "\n",
    "df = pd.read_excel('AKL單元冷凍系統操作條件(20060912_20091231).xlsx',index_col=0,skiprows=2)\n",
    "for i in df.columns:\n",
    "  df[i] = pd.to_numeric(df[i],errors='coerce')\n",
    "df = df.iloc[1:,:]\n",
    "df = df.dropna(axis=1,how='all').dropna(axis=0)\n",
    "df.head()"
   ]
  },
  {
   "cell_type": "code",
   "execution_count": 143,
   "metadata": {},
   "outputs": [
    {
     "data": {
      "text/plain": [
       "(入口溫度      11.20\n",
       " 出口溫度      69.50\n",
       " 入口壓力       0.30\n",
       " 出口壓力       5.20\n",
       " 出口溫度.1    38.60\n",
       " 硫酸濃度      96.79\n",
       " dtype: float64,\n",
       " 入口溫度       1.50\n",
       " 出口溫度      57.60\n",
       " 入口壓力       0.10\n",
       " 出口壓力       4.20\n",
       " 出口溫度.1    27.80\n",
       " 硫酸濃度      86.97\n",
       " dtype: float64)"
      ]
     },
     "execution_count": 143,
     "metadata": {},
     "output_type": "execute_result"
    }
   ],
   "source": [
    "df.max(),df.min()"
   ]
  },
  {
   "cell_type": "code",
   "execution_count": 144,
   "metadata": {},
   "outputs": [
    {
     "data": {
      "text/html": [
       "<div>\n",
       "<style scoped>\n",
       "    .dataframe tbody tr th:only-of-type {\n",
       "        vertical-align: middle;\n",
       "    }\n",
       "\n",
       "    .dataframe tbody tr th {\n",
       "        vertical-align: top;\n",
       "    }\n",
       "\n",
       "    .dataframe thead th {\n",
       "        text-align: right;\n",
       "    }\n",
       "</style>\n",
       "<table border=\"1\" class=\"dataframe\">\n",
       "  <thead>\n",
       "    <tr style=\"text-align: right;\">\n",
       "      <th></th>\n",
       "      <th>入口溫度</th>\n",
       "      <th>出口溫度</th>\n",
       "      <th>入口壓力</th>\n",
       "      <th>出口壓力</th>\n",
       "      <th>出口溫度.1</th>\n",
       "      <th>硫酸濃度</th>\n",
       "    </tr>\n",
       "  </thead>\n",
       "  <tbody>\n",
       "    <tr>\n",
       "      <th>2006/09/12</th>\n",
       "      <td>-0.324150</td>\n",
       "      <td>-1.685517</td>\n",
       "      <td>1.183148</td>\n",
       "      <td>-1.140222</td>\n",
       "      <td>-0.929716</td>\n",
       "      <td>0.228589</td>\n",
       "    </tr>\n",
       "    <tr>\n",
       "      <th>2006/09/13</th>\n",
       "      <td>-0.424920</td>\n",
       "      <td>-1.746344</td>\n",
       "      <td>1.183148</td>\n",
       "      <td>-0.269326</td>\n",
       "      <td>-0.731651</td>\n",
       "      <td>0.551514</td>\n",
       "    </tr>\n",
       "    <tr>\n",
       "      <th>2006/09/14</th>\n",
       "      <td>-0.424920</td>\n",
       "      <td>-1.624690</td>\n",
       "      <td>1.183148</td>\n",
       "      <td>-0.269326</td>\n",
       "      <td>-0.665629</td>\n",
       "      <td>0.411870</td>\n",
       "    </tr>\n",
       "    <tr>\n",
       "      <th>2006/09/15</th>\n",
       "      <td>-0.424920</td>\n",
       "      <td>-1.624690</td>\n",
       "      <td>1.183148</td>\n",
       "      <td>-0.269326</td>\n",
       "      <td>-0.599607</td>\n",
       "      <td>0.822072</td>\n",
       "    </tr>\n",
       "    <tr>\n",
       "      <th>2006/09/16</th>\n",
       "      <td>-0.424920</td>\n",
       "      <td>-1.442210</td>\n",
       "      <td>-0.716248</td>\n",
       "      <td>-1.140222</td>\n",
       "      <td>-0.995738</td>\n",
       "      <td>0.298410</td>\n",
       "    </tr>\n",
       "    <tr>\n",
       "      <th>...</th>\n",
       "      <td>...</td>\n",
       "      <td>...</td>\n",
       "      <td>...</td>\n",
       "      <td>...</td>\n",
       "      <td>...</td>\n",
       "      <td>...</td>\n",
       "    </tr>\n",
       "    <tr>\n",
       "      <th>2009/12/27</th>\n",
       "      <td>0.784317</td>\n",
       "      <td>0.930033</td>\n",
       "      <td>-2.615644</td>\n",
       "      <td>-2.011118</td>\n",
       "      <td>-0.599607</td>\n",
       "      <td>1.773391</td>\n",
       "    </tr>\n",
       "    <tr>\n",
       "      <th>2009/12/28</th>\n",
       "      <td>0.784317</td>\n",
       "      <td>0.869206</td>\n",
       "      <td>-2.615644</td>\n",
       "      <td>-2.011118</td>\n",
       "      <td>-0.533585</td>\n",
       "      <td>1.293368</td>\n",
       "    </tr>\n",
       "    <tr>\n",
       "      <th>2009/12/29</th>\n",
       "      <td>0.885087</td>\n",
       "      <td>0.808379</td>\n",
       "      <td>-0.716248</td>\n",
       "      <td>-2.011118</td>\n",
       "      <td>-0.599607</td>\n",
       "      <td>0.813344</td>\n",
       "    </tr>\n",
       "    <tr>\n",
       "      <th>2009/12/30</th>\n",
       "      <td>0.582778</td>\n",
       "      <td>0.808379</td>\n",
       "      <td>-2.615644</td>\n",
       "      <td>-2.011118</td>\n",
       "      <td>-0.665629</td>\n",
       "      <td>0.394415</td>\n",
       "    </tr>\n",
       "    <tr>\n",
       "      <th>2009/12/31</th>\n",
       "      <td>0.482008</td>\n",
       "      <td>0.747553</td>\n",
       "      <td>-2.615644</td>\n",
       "      <td>-2.011118</td>\n",
       "      <td>-0.335519</td>\n",
       "      <td>0.612607</td>\n",
       "    </tr>\n",
       "  </tbody>\n",
       "</table>\n",
       "<p>1135 rows × 6 columns</p>\n",
       "</div>"
      ],
      "text/plain": [
       "                入口溫度      出口溫度      入口壓力      出口壓力    出口溫度.1      硫酸濃度\n",
       "2006/09/12 -0.324150 -1.685517  1.183148 -1.140222 -0.929716  0.228589\n",
       "2006/09/13 -0.424920 -1.746344  1.183148 -0.269326 -0.731651  0.551514\n",
       "2006/09/14 -0.424920 -1.624690  1.183148 -0.269326 -0.665629  0.411870\n",
       "2006/09/15 -0.424920 -1.624690  1.183148 -0.269326 -0.599607  0.822072\n",
       "2006/09/16 -0.424920 -1.442210 -0.716248 -1.140222 -0.995738  0.298410\n",
       "...              ...       ...       ...       ...       ...       ...\n",
       "2009/12/27  0.784317  0.930033 -2.615644 -2.011118 -0.599607  1.773391\n",
       "2009/12/28  0.784317  0.869206 -2.615644 -2.011118 -0.533585  1.293368\n",
       "2009/12/29  0.885087  0.808379 -0.716248 -2.011118 -0.599607  0.813344\n",
       "2009/12/30  0.582778  0.808379 -2.615644 -2.011118 -0.665629  0.394415\n",
       "2009/12/31  0.482008  0.747553 -2.615644 -2.011118 -0.335519  0.612607\n",
       "\n",
       "[1135 rows x 6 columns]"
      ]
     },
     "execution_count": 144,
     "metadata": {},
     "output_type": "execute_result"
    }
   ],
   "source": [
    "from sklearn.svm import SVR\n",
    "from sklearn.preprocessing import StandardScaler,MinMaxScaler\n",
    "真理 = 42\n",
    "model = SVR(C=真理,gamma=真理)\n",
    "ss = StandardScaler()\n",
    "mm = MinMaxScaler()\n",
    "x_col = ['入口溫度','出口溫度','入口壓力','出口壓力','出口溫度.1']\n",
    "y_col = '硫酸濃度'\n",
    "df_ss = df.copy()\n",
    "df_ss[:] = ss.fit_transform(df_ss[:])\n",
    "df_ss"
   ]
  },
  {
   "cell_type": "code",
   "execution_count": 145,
   "metadata": {},
   "outputs": [
    {
     "data": {
      "text/plain": [
       "5.3342913169504715"
      ]
     },
     "execution_count": 145,
     "metadata": {},
     "output_type": "execute_result"
    }
   ],
   "source": [
    "df_ss[y_col].max()"
   ]
  },
  {
   "cell_type": "code",
   "execution_count": 146,
   "metadata": {},
   "outputs": [
    {
     "data": {
      "text/plain": [
       "0.9662602029400069"
      ]
     },
     "execution_count": 146,
     "metadata": {},
     "output_type": "execute_result"
    }
   ],
   "source": [
    "x,y = df_ss[x_col],df_ss[y_col]\n",
    "model.fit(x,y)\n",
    "model.score(x,y)"
   ]
  },
  {
   "cell_type": "code",
   "execution_count": 147,
   "metadata": {},
   "outputs": [
    {
     "data": {
      "text/plain": [
       "-1.9364657099597178"
      ]
     },
     "execution_count": 147,
     "metadata": {},
     "output_type": "execute_result"
    }
   ],
   "source": [
    "df_ss.loc[:,x_col[0]].min()"
   ]
  },
  {
   "cell_type": "code",
   "execution_count": 148,
   "metadata": {},
   "outputs": [
    {
     "name": "stderr",
     "output_type": "stream",
     "text": [
      "\u001b[32m[I 2022-06-14 11:21:18,117]\u001b[0m A new study created in memory with name: no-name-da7b6644-d3d8-4a2d-a4c9-e16607153680\u001b[0m\n",
      "\u001b[32m[I 2022-06-14 11:21:18,125]\u001b[0m Trial 0 finished with value: 0.19239311446114568 and parameters: {'入口溫度': 3.479210819034152, '出口溫度': 2.465103619000444, '入口壓力': 0.1724172642512474, '出口壓力': 2.296511680755735, '出口溫度.1': 3.075358928750179}. Best is trial 0 with value: 0.19239311446114568.\u001b[0m\n",
      "\u001b[32m[I 2022-06-14 11:21:18,132]\u001b[0m Trial 1 finished with value: 0.19239311446114568 and parameters: {'入口溫度': 1.424158977300304, '出口溫度': 1.9447918439858947, '入口壓力': 0.38862574264359573, '出口壓力': 0.7999177402085089, '出口溫度.1': 0.0052720990601784175}. Best is trial 0 with value: 0.19239311446114568.\u001b[0m\n",
      "\u001b[32m[I 2022-06-14 11:21:18,137]\u001b[0m Trial 2 finished with value: 0.19239311446114568 and parameters: {'入口溫度': 1.1579901020822232, '出口溫度': 4.921918167356803, '入口壓力': 0.4194041367471484, '出口壓力': 0.5403761185166523, '出口溫度.1': 1.672964834694614}. Best is trial 0 with value: 0.19239311446114568.\u001b[0m\n",
      "\u001b[32m[I 2022-06-14 11:21:18,143]\u001b[0m Trial 3 finished with value: 0.19239311446114568 and parameters: {'入口溫度': 5.430765390403988, '出口溫度': 0.4232368688007953, '入口壓力': 0.05619008004989249, '出口壓力': 0.5548032575286437, '出口溫度.1': 1.5936631848404792}. Best is trial 0 with value: 0.19239311446114568.\u001b[0m\n",
      "\u001b[32m[I 2022-06-14 11:21:18,148]\u001b[0m Trial 4 finished with value: 0.19239311446114568 and parameters: {'入口溫度': 2.864737750859721, '出口溫度': 1.3005098936664936, '入口壓力': 1.038032752693194, '出口壓力': 2.0690482973209074, '出口溫度.1': 2.662118410463456}. Best is trial 0 with value: 0.19239311446114568.\u001b[0m\n",
      "\u001b[32m[I 2022-06-14 11:21:18,152]\u001b[0m Trial 5 finished with value: 0.19239311446114568 and parameters: {'入口溫度': 1.668135077049173, '出口溫度': 2.1869525014782907, '入口壓力': 0.26194776572893597, '出口壓力': 0.24388162473189115, '出口溫度.1': 2.821457354272875}. Best is trial 0 with value: 0.19239311446114568.\u001b[0m\n",
      "\u001b[32m[I 2022-06-14 11:21:18,159]\u001b[0m Trial 6 finished with value: 0.19239311446114568 and parameters: {'入口溫度': 6.670827499213157, '出口溫度': 4.787297596339376, '入口壓力': 0.7068197756511844, '出口壓力': 0.19457813441212357, '出口溫度.1': 2.006044543435222}. Best is trial 0 with value: 0.19239311446114568.\u001b[0m\n",
      "\u001b[32m[I 2022-06-14 11:21:18,167]\u001b[0m Trial 7 finished with value: 0.19239311446114568 and parameters: {'入口溫度': 0.281387808191967, '出口溫度': 4.204236517413938, '入口壓力': 0.3418210124523349, '出口壓力': 0.3721829346305163, '出口溫度.1': 1.3488102015792502}. Best is trial 0 with value: 0.19239311446114568.\u001b[0m\n",
      "\u001b[32m[I 2022-06-14 11:21:18,172]\u001b[0m Trial 8 finished with value: 0.19239311446114568 and parameters: {'入口溫度': 4.825447999835775, '出口溫度': 0.8066641894628047, '入口壓力': 0.8278378513480052, '出口壓力': 1.7620092869820623, '出口溫度.1': 1.4715248739921691}. Best is trial 0 with value: 0.19239311446114568.\u001b[0m\n",
      "\u001b[32m[I 2022-06-14 11:21:18,179]\u001b[0m Trial 9 finished with value: 0.19239311446114568 and parameters: {'入口溫度': 6.291980963231029, '出口溫度': 0.5411752710535974, '入口壓力': 0.5661754818475954, '出口壓力': 0.587543040638753, '出口溫度.1': 3.098843709445352}. Best is trial 0 with value: 0.19239311446114568.\u001b[0m\n",
      "\u001b[32m[I 2022-06-14 11:21:18,191]\u001b[0m Trial 10 finished with value: 0.19239311446114568 and parameters: {'入口溫度': 3.4660324483818776, '出口溫度': 3.309697878725471, '入口壓力': 0.05013298150619998, '出口壓力': 1.3482444856828493, '出口溫度.1': 0.5548079950035596}. Best is trial 0 with value: 0.19239311446114568.\u001b[0m\n",
      "\u001b[32m[I 2022-06-14 11:21:18,203]\u001b[0m Trial 11 finished with value: 0.19239311446114568 and parameters: {'入口溫度': 2.2424816138923704, '出口溫度': 2.3232229080222924, '入口壓力': 0.1844900797780321, '出口壓力': 1.072726301277055, '出口溫度.1': 0.25847610197320464}. Best is trial 0 with value: 0.19239311446114568.\u001b[0m\n",
      "\u001b[32m[I 2022-06-14 11:21:18,217]\u001b[0m Trial 12 finished with value: 0.19239311446114568 and parameters: {'入口溫度': 0.08287484061871364, '出口溫度': 3.2595186745229574, '入口壓力': 0.431448555454117, '出口壓力': 1.1081953416584946, '出口溫度.1': 0.8079254956232432}. Best is trial 0 with value: 0.19239311446114568.\u001b[0m\n",
      "\u001b[32m[I 2022-06-14 11:21:18,228]\u001b[0m Trial 13 finished with value: 0.19239311446114568 and parameters: {'入口溫度': 4.236971537358881, '出口溫度': 1.7975497211330602, '入口壓力': 0.003885454915267844, '出口壓力': 2.3133852283934373, '出口溫度.1': 2.424265042967526}. Best is trial 0 with value: 0.19239311446114568.\u001b[0m\n",
      "\u001b[32m[I 2022-06-14 11:21:18,245]\u001b[0m Trial 14 finished with value: 0.19239311446114568 and parameters: {'入口溫度': 7.751254242473069, '出口溫度': 3.092135145021812, '入口壓力': 0.1946839937614949, '出口壓力': 1.5795215339395012, '出口溫度.1': 0.09517850718571451}. Best is trial 0 with value: 0.19239311446114568.\u001b[0m\n",
      "\u001b[32m[I 2022-06-14 11:21:18,260]\u001b[0m Trial 15 finished with value: 0.19239311446114568 and parameters: {'入口溫度': 1.0325640729658692, '出口溫度': 1.4690039205082603, '入口壓力': 0.5420620658657015, '出口壓力': 0.8149306046351779, '出口溫度.1': 0.928126726558089}. Best is trial 0 with value: 0.19239311446114568.\u001b[0m\n",
      "\u001b[32m[I 2022-06-14 11:21:18,279]\u001b[0m Trial 16 finished with value: 0.19239311446114568 and parameters: {'入口溫度': 2.9143886761327256, '出口溫度': 2.8634614616821, '入口壓力': 0.1706063715376564, '出口壓力': 0.8344345845072914, '出口溫度.1': 3.238171472354489}. Best is trial 0 with value: 0.19239311446114568.\u001b[0m\n",
      "\u001b[32m[I 2022-06-14 11:21:18,293]\u001b[0m Trial 17 finished with value: 0.19239311446114568 and parameters: {'入口溫度': 7.837774507885667, '出口溫度': 3.8676548540830074, '入口壓力': 0.16776939949866485, '出口壓力': 1.6502007604227238, '出口溫度.1': 2.1143134698654}. Best is trial 0 with value: 0.19239311446114568.\u001b[0m\n",
      "\u001b[32m[I 2022-06-14 11:21:18,305]\u001b[0m Trial 18 finished with value: 0.19239311446114568 and parameters: {'入口溫度': 0.708604707758651, '出口溫度': 1.3040938078628073, '入口壓力': 0.9376447044384498, '出口壓力': 2.29555579329074, '出口溫度.1': 0.9822650431802644}. Best is trial 0 with value: 0.19239311446114568.\u001b[0m\n",
      "\u001b[32m[I 2022-06-14 11:21:18,320]\u001b[0m Trial 19 finished with value: 0.19239311446114568 and parameters: {'入口溫度': 3.290553249692539, '出口溫度': 2.7757860165553967, '入口壓力': 0.08567283768411098, '出口壓力': 1.3797287790234964, '出口溫度.1': 3.313760873035178}. Best is trial 0 with value: 0.19239311446114568.\u001b[0m\n",
      "\u001b[32m[I 2022-06-14 11:21:18,332]\u001b[0m Trial 20 finished with value: 0.19239311446114568 and parameters: {'入口溫度': 7.327981284183509, '出口溫度': 3.944240432031538, '入口壓力': 0.2700338981096481, '出口壓力': 2.004356070552342, '出口溫度.1': 2.1276723561301405}. Best is trial 0 with value: 0.19239311446114568.\u001b[0m\n",
      "\u001b[32m[I 2022-06-14 11:21:18,347]\u001b[0m Trial 21 finished with value: 0.19239311446114568 and parameters: {'入口溫度': 5.1100206703290185, '出口溫度': 3.5863797021064783, '入口壓力': 1.0936918643374902, '出口壓力': 2.322356677180588, '出口溫度.1': 1.1998271297043717}. Best is trial 0 with value: 0.19239311446114568.\u001b[0m\n",
      "\u001b[32m[I 2022-06-14 11:21:18,362]\u001b[0m Trial 22 finished with value: 0.19239311446114568 and parameters: {'入口溫度': 4.120591523780417, '出口溫度': 2.650643003686109, '入口壓力': 0.9345002544979429, '出口壓力': 1.9763233341531814, '出口溫度.1': 3.30332589563186}. Best is trial 0 with value: 0.19239311446114568.\u001b[0m\n",
      "\u001b[32m[I 2022-06-14 11:21:18,380]\u001b[0m Trial 23 finished with value: 0.19239311446114568 and parameters: {'入口溫度': 3.4086620231534366, '出口溫度': 4.242701448690276, '入口壓力': 0.004849472459422799, '出口壓力': 1.9951212629095025, '出口溫度.1': 2.942548910554777}. Best is trial 0 with value: 0.19239311446114568.\u001b[0m\n",
      "\u001b[32m[I 2022-06-14 11:21:18,395]\u001b[0m Trial 24 finished with value: 0.19239311446114568 and parameters: {'入口溫度': 6.008017211794643, '出口溫度': 3.682523229661414, '入口壓力': 1.1751598647592671, '出口壓力': 2.165099066663926, '出口溫度.1': 2.054253094866029}. Best is trial 0 with value: 0.19239311446114568.\u001b[0m\n",
      "\u001b[32m[I 2022-06-14 11:21:18,407]\u001b[0m Trial 25 finished with value: 0.19239311446114568 and parameters: {'入口溫度': 4.280866869723748, '出口溫度': 2.551488934935667, '入口壓力': 1.175493087591448, '出口壓力': 2.342844961585796, '出口溫度.1': 1.2694737557589753}. Best is trial 0 with value: 0.19239311446114568.\u001b[0m\n",
      "\u001b[32m[I 2022-06-14 11:21:18,420]\u001b[0m Trial 26 finished with value: 0.19239311446114568 and parameters: {'入口溫度': 3.900335714348657, '出口溫度': 4.247477171546511, '入口壓力': 0.6916230374005997, '出口壓力': 1.9012971892982204, '出口溫度.1': 2.9605804557562463}. Best is trial 0 with value: 0.19239311446114568.\u001b[0m\n",
      "\u001b[32m[I 2022-06-14 11:21:18,436]\u001b[0m Trial 27 finished with value: 0.19239311446114568 and parameters: {'入口溫度': 5.852569049749319, '出口溫度': 4.447102698721519, '入口壓力': 0.006553753079175606, '出口壓力': 2.1742785139537952, '出口溫度.1': 2.4756996002720633}. Best is trial 0 with value: 0.19239311446114568.\u001b[0m\n",
      "\u001b[32m[I 2022-06-14 11:21:18,454]\u001b[0m Trial 28 finished with value: 0.19239311446114568 and parameters: {'入口溫度': 4.729761572705219, '出口溫度': 2.485867463855212, '入口壓力': 1.173899986479364, '出口壓力': 2.178867444055424, '出口溫度.1': 1.864327555728345}. Best is trial 0 with value: 0.19239311446114568.\u001b[0m\n",
      "\u001b[32m[I 2022-06-14 11:21:18,466]\u001b[0m Trial 29 finished with value: 0.19239311446114568 and parameters: {'入口溫度': 2.205684047455411, '出口溫度': 2.256844296724541, '入口壓力': 0.6867952413374152, '出口壓力': 1.8764390547297247, '出口溫度.1': 2.53529793244385}. Best is trial 0 with value: 0.19239311446114568.\u001b[0m\n",
      "\u001b[32m[I 2022-06-14 11:21:18,477]\u001b[0m Trial 30 finished with value: 0.19239311446114568 and parameters: {'入口溫度': 5.707046943345445, '出口溫度': 4.567732652642163, '入口壓力': 0.6920966393383831, '出口壓力': 1.814582375593686, '出口溫度.1': 2.347227008194765}. Best is trial 0 with value: 0.19239311446114568.\u001b[0m\n",
      "\u001b[32m[I 2022-06-14 11:21:18,486]\u001b[0m Trial 31 finished with value: 0.19239311446114568 and parameters: {'入口溫度': 4.681425451124349, '出口溫度': 1.8301406833734486, '入口壓力': 0.7829961072459249, '出口壓力': 2.1923616281010814, '出口溫度.1': 2.8361924601631916}. Best is trial 0 with value: 0.19239311446114568.\u001b[0m\n",
      "\u001b[32m[I 2022-06-14 11:21:18,498]\u001b[0m Trial 32 finished with value: 0.19239311446114568 and parameters: {'入口溫度': 2.128727097656759, '出口溫度': 2.171297793545862, '入口壓力': 0.48304792964140025, '出口壓力': 2.1673343239397154, '出口溫度.1': 2.5301313451209335}. Best is trial 0 with value: 0.19239311446114568.\u001b[0m\n",
      "\u001b[32m[I 2022-06-14 11:21:18,513]\u001b[0m Trial 33 finished with value: 0.19239311446114568 and parameters: {'入口溫度': 5.245697529182242, '出口溫度': 1.595540444762583, '入口壓力': 0.6454154538417908, '出口壓力': 1.8067989769505926, '出口溫度.1': 1.8290946899848575}. Best is trial 0 with value: 0.19239311446114568.\u001b[0m\n",
      "\u001b[32m[I 2022-06-14 11:21:18,523]\u001b[0m Trial 34 finished with value: 0.19239311446114568 and parameters: {'入口溫度': 2.689734447936336, '出口溫度': 1.9232493270072957, '入口壓力': 0.7608151812424756, '出口壓力': 1.5225637524194418, '出口溫度.1': 2.3184245860515764}. Best is trial 0 with value: 0.19239311446114568.\u001b[0m\n",
      "\u001b[32m[I 2022-06-14 11:21:18,535]\u001b[0m Trial 35 finished with value: 0.19239311446114568 and parameters: {'入口溫度': 7.2048281298267565, '出口溫度': 3.7829163040085745, '入口壓力': 0.31788057917244916, '出口壓力': 1.2486126632489862, '出口溫度.1': 1.2348305172907517}. Best is trial 0 with value: 0.19239311446114568.\u001b[0m\n",
      "\u001b[32m[I 2022-06-14 11:21:18,551]\u001b[0m Trial 36 finished with value: 0.19239311446114568 and parameters: {'入口溫度': 3.996738529283919, '出口溫度': 3.470516586257222, '入口壓力': 1.0696857348542006, '出口壓力': 2.327196965529409, '出口溫度.1': 3.182131954034575}. Best is trial 0 with value: 0.19239311446114568.\u001b[0m\n",
      "\u001b[32m[I 2022-06-14 11:21:18,563]\u001b[0m Trial 37 finished with value: 0.19239311446114568 and parameters: {'入口溫度': 5.456164310720275, '出口溫度': 3.0696667068464776, '入口壓力': 0.96409109258041, '出口壓力': 2.0112831345437754, '出口溫度.1': 1.5938860790062879}. Best is trial 0 with value: 0.19239311446114568.\u001b[0m\n",
      "\u001b[32m[I 2022-06-14 11:21:18,578]\u001b[0m Trial 38 finished with value: 0.19239311446114568 and parameters: {'入口溫度': 3.609045333101971, '出口溫度': 4.9435089160922665, '入口壓力': 1.0481125691998034, '出口壓力': 2.0228582643329225, '出口溫度.1': 3.360145692584779}. Best is trial 0 with value: 0.19239311446114568.\u001b[0m\n",
      "\u001b[32m[I 2022-06-14 11:21:18,597]\u001b[0m Trial 39 finished with value: 0.19239311446114568 and parameters: {'入口溫度': 3.1104223005172456, '出口溫度': 3.5348319042860954, '入口壓力': 1.1006047997452986, '出口壓力': 1.725879805564352, '出口溫度.1': 3.045292345972361}. Best is trial 0 with value: 0.19239311446114568.\u001b[0m\n",
      "\u001b[32m[I 2022-06-14 11:21:18,607]\u001b[0m Trial 40 finished with value: 0.19239311446114568 and parameters: {'入口溫度': 2.548814062705033, '出口溫度': 4.117796274168841, '入口壓力': 0.8894729089753302, '出口壓力': 1.9517125303181793, '出口溫度.1': 2.768473053727551}. Best is trial 0 with value: 0.19239311446114568.\u001b[0m\n",
      "\u001b[32m[I 2022-06-14 11:21:18,621]\u001b[0m Trial 41 finished with value: 0.19239311446114568 and parameters: {'入口溫度': 4.3963503863467235, '出口溫度': 2.57343714842264, '入口壓力': 1.1309748574352658, '出口壓力': 2.1162835547524583, '出口溫度.1': 2.720815800462543}. Best is trial 0 with value: 0.19239311446114568.\u001b[0m\n"
     ]
    }
   ],
   "source": [
    "import optuna\n",
    "import numpy as np\n",
    "request = {} \n",
    "request['output'] = df_ss[y_col].max()\n",
    "def objective(trial: optuna.Trial):\n",
    "  Input_df = pd.DataFrame(\n",
    "    index = [0],\n",
    "    columns = x_col\n",
    "    )\n",
    "  for key in x_col:\n",
    "    Input_df.loc[0,key] = trial.suggest_uniform(\n",
    "      name = key,\n",
    "      low = max(df_ss.loc[:,key].min(),0),\n",
    "      high = df_ss.loc[:,key].max()\n",
    "      )\n",
    "  output_df = model.predict(Input_df)\n",
    "  output = output_df[0]\n",
    "  total_loss = np.sqrt((request['output']-output)**2) #L1 LOSS\n",
    "  return 1/total_loss # 求最大值\n",
    "\n",
    "study = optuna.create_study()\n",
    "study.optimize(objective, n_trials=真理)"
   ]
  },
  {
   "cell_type": "code",
   "execution_count": 149,
   "metadata": {},
   "outputs": [
    {
     "data": {
      "text/plain": [
       "{'入口溫度': 3.479210819034152,\n",
       " '出口溫度': 2.465103619000444,\n",
       " '入口壓力': 0.1724172642512474,\n",
       " '出口壓力': 2.296511680755735,\n",
       " '出口溫度.1': 3.075358928750179}"
      ]
     },
     "execution_count": 149,
     "metadata": {},
     "output_type": "execute_result"
    }
   ],
   "source": [
    "study.best_params"
   ]
  },
  {
   "cell_type": "code",
   "execution_count": 150,
   "metadata": {},
   "outputs": [
    {
     "data": {
      "text/plain": [
       "0.13660010642665243"
      ]
     },
     "execution_count": 150,
     "metadata": {},
     "output_type": "execute_result"
    }
   ],
   "source": [
    "model.predict(pd.DataFrame(study.best_params,index=[0]))[0]"
   ]
  },
  {
   "cell_type": "code",
   "execution_count": 155,
   "metadata": {},
   "outputs": [
    {
     "name": "stdout",
     "output_type": "stream",
     "text": [
      "r2_score: 0.9662602029400069\n",
      "answer:\n"
     ]
    },
    {
     "data": {
      "text/html": [
       "<div>\n",
       "<style scoped>\n",
       "    .dataframe tbody tr th:only-of-type {\n",
       "        vertical-align: middle;\n",
       "    }\n",
       "\n",
       "    .dataframe tbody tr th {\n",
       "        vertical-align: top;\n",
       "    }\n",
       "\n",
       "    .dataframe thead th {\n",
       "        text-align: right;\n",
       "    }\n",
       "</style>\n",
       "<table border=\"1\" class=\"dataframe\">\n",
       "  <thead>\n",
       "    <tr style=\"text-align: right;\">\n",
       "      <th></th>\n",
       "      <th>入口溫度</th>\n",
       "      <th>出口溫度</th>\n",
       "      <th>入口壓力</th>\n",
       "      <th>出口壓力</th>\n",
       "      <th>出口溫度.1</th>\n",
       "      <th>硫酸濃度</th>\n",
       "    </tr>\n",
       "  </thead>\n",
       "  <tbody>\n",
       "    <tr>\n",
       "      <th>0</th>\n",
       "      <td>3.479211</td>\n",
       "      <td>2.465104</td>\n",
       "      <td>0.172417</td>\n",
       "      <td>2.296512</td>\n",
       "      <td>3.075359</td>\n",
       "      <td>0.1366</td>\n",
       "    </tr>\n",
       "  </tbody>\n",
       "</table>\n",
       "</div>"
      ],
      "text/plain": [
       "       入口溫度      出口溫度      入口壓力      出口壓力    出口溫度.1    硫酸濃度\n",
       "0  3.479211  2.465104  0.172417  2.296512  3.075359  0.1366"
      ]
     },
     "execution_count": 155,
     "metadata": {},
     "output_type": "execute_result"
    }
   ],
   "source": [
    "df_answer = pd.DataFrame()\n",
    "for i in study.best_params:\n",
    "    df_answer[i] = [study.best_params[i]]\n",
    "df_answer[y_col] = model.predict(pd.DataFrame(study.best_params,index=[0]))[0]\n",
    "print('r2_score:',model.score(x,y))\n",
    "print('answer:')\n",
    "df_answer"
   ]
  },
  {
   "cell_type": "code",
   "execution_count": null,
   "metadata": {},
   "outputs": [],
   "source": []
  }
 ],
 "metadata": {
  "kernelspec": {
   "display_name": "Python 3.8.5 ('base')",
   "language": "python",
   "name": "python3"
  },
  "language_info": {
   "codemirror_mode": {
    "name": "ipython",
    "version": 3
   },
   "file_extension": ".py",
   "mimetype": "text/x-python",
   "name": "python",
   "nbconvert_exporter": "python",
   "pygments_lexer": "ipython3",
   "version": "3.8.5"
  },
  "orig_nbformat": 4,
  "vscode": {
   "interpreter": {
    "hash": "709221cd6e8e8bb1271bebb288222f3d75e028518a70d134b83bcc07aeaab82d"
   }
  }
 },
 "nbformat": 4,
 "nbformat_minor": 2
}
