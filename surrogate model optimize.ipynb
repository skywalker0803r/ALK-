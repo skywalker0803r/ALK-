{
 "cells": [
  {
   "cell_type": "code",
   "execution_count": 69,
   "metadata": {},
   "outputs": [
    {
     "data": {
      "text/html": [
       "<div>\n",
       "<style scoped>\n",
       "    .dataframe tbody tr th:only-of-type {\n",
       "        vertical-align: middle;\n",
       "    }\n",
       "\n",
       "    .dataframe tbody tr th {\n",
       "        vertical-align: top;\n",
       "    }\n",
       "\n",
       "    .dataframe thead th {\n",
       "        text-align: right;\n",
       "    }\n",
       "</style>\n",
       "<table border=\"1\" class=\"dataframe\">\n",
       "  <thead>\n",
       "    <tr style=\"text-align: right;\">\n",
       "      <th></th>\n",
       "      <th>入口溫度</th>\n",
       "      <th>出口溫度</th>\n",
       "      <th>入口壓力</th>\n",
       "      <th>出口壓力</th>\n",
       "      <th>出口溫度.1</th>\n",
       "      <th>出口流量</th>\n",
       "      <th>硫酸濃度</th>\n",
       "    </tr>\n",
       "  </thead>\n",
       "  <tbody>\n",
       "    <tr>\n",
       "      <th>2014/12/25</th>\n",
       "      <td>8.1</td>\n",
       "      <td>66.2</td>\n",
       "      <td>0.1</td>\n",
       "      <td>4.8</td>\n",
       "      <td>28.5</td>\n",
       "      <td>231.4</td>\n",
       "      <td>91.98</td>\n",
       "    </tr>\n",
       "    <tr>\n",
       "      <th>2014/12/26</th>\n",
       "      <td>7.9</td>\n",
       "      <td>66.2</td>\n",
       "      <td>0.1</td>\n",
       "      <td>4.8</td>\n",
       "      <td>28.4</td>\n",
       "      <td>231.1</td>\n",
       "      <td>91.66</td>\n",
       "    </tr>\n",
       "    <tr>\n",
       "      <th>2014/12/27</th>\n",
       "      <td>8.2</td>\n",
       "      <td>66.3</td>\n",
       "      <td>0.1</td>\n",
       "      <td>4.8</td>\n",
       "      <td>28.4</td>\n",
       "      <td>232.2</td>\n",
       "      <td>91.95</td>\n",
       "    </tr>\n",
       "    <tr>\n",
       "      <th>2014/12/28</th>\n",
       "      <td>8.0</td>\n",
       "      <td>66.1</td>\n",
       "      <td>0.1</td>\n",
       "      <td>4.8</td>\n",
       "      <td>28.4</td>\n",
       "      <td>237.8</td>\n",
       "      <td>91.89</td>\n",
       "    </tr>\n",
       "    <tr>\n",
       "      <th>2014/12/29</th>\n",
       "      <td>7.6</td>\n",
       "      <td>65.7</td>\n",
       "      <td>0.2</td>\n",
       "      <td>4.8</td>\n",
       "      <td>28.4</td>\n",
       "      <td>245.5</td>\n",
       "      <td>92.12</td>\n",
       "    </tr>\n",
       "  </tbody>\n",
       "</table>\n",
       "</div>"
      ],
      "text/plain": [
       "            入口溫度  出口溫度  入口壓力  出口壓力  出口溫度.1   出口流量   硫酸濃度\n",
       "2014/12/25   8.1  66.2   0.1   4.8    28.5  231.4  91.98\n",
       "2014/12/26   7.9  66.2   0.1   4.8    28.4  231.1  91.66\n",
       "2014/12/27   8.2  66.3   0.1   4.8    28.4  232.2  91.95\n",
       "2014/12/28   8.0  66.1   0.1   4.8    28.4  237.8  91.89\n",
       "2014/12/29   7.6  65.7   0.2   4.8    28.4  245.5  92.12"
      ]
     },
     "execution_count": 69,
     "metadata": {},
     "output_type": "execute_result"
    }
   ],
   "source": [
    "import pandas as pd\n",
    "import matplotlib.pyplot as plt\n",
    "\n",
    "df = pd.read_excel('AKL單元冷凍系統操作條件(20100101_20141231).xlsx',index_col=0,skiprows=2)\n",
    "for i in df.columns:\n",
    "  df[i] = pd.to_numeric(df[i],errors='coerce')\n",
    "df = df.iloc[1:,:]\n",
    "df = df.dropna(axis=1,how='all').dropna(axis=0)\n",
    "df.head()"
   ]
  },
  {
   "cell_type": "code",
   "execution_count": 70,
   "metadata": {},
   "outputs": [
    {
     "data": {
      "text/plain": [
       "(入口溫度        8.2\n",
       " 出口溫度       66.3\n",
       " 入口壓力        0.2\n",
       " 出口壓力        4.8\n",
       " 出口溫度.1     28.5\n",
       " 出口流量      249.4\n",
       " 硫酸濃度       92.4\n",
       " dtype: float64,\n",
       " 入口溫度        7.20\n",
       " 出口溫度       65.30\n",
       " 入口壓力        0.10\n",
       " 出口壓力        4.80\n",
       " 出口溫度.1     28.30\n",
       " 出口流量      231.10\n",
       " 硫酸濃度       91.66\n",
       " dtype: float64)"
      ]
     },
     "execution_count": 70,
     "metadata": {},
     "output_type": "execute_result"
    }
   ],
   "source": [
    "df.max(),df.min()"
   ]
  },
  {
   "cell_type": "code",
   "execution_count": 71,
   "metadata": {},
   "outputs": [
    {
     "name": "stdout",
     "output_type": "stream",
     "text": [
      "(7, 7)\n"
     ]
    },
    {
     "data": {
      "text/html": [
       "<div>\n",
       "<style scoped>\n",
       "    .dataframe tbody tr th:only-of-type {\n",
       "        vertical-align: middle;\n",
       "    }\n",
       "\n",
       "    .dataframe tbody tr th {\n",
       "        vertical-align: top;\n",
       "    }\n",
       "\n",
       "    .dataframe thead th {\n",
       "        text-align: right;\n",
       "    }\n",
       "</style>\n",
       "<table border=\"1\" class=\"dataframe\">\n",
       "  <thead>\n",
       "    <tr style=\"text-align: right;\">\n",
       "      <th></th>\n",
       "      <th>入口溫度</th>\n",
       "      <th>出口溫度</th>\n",
       "      <th>入口壓力</th>\n",
       "      <th>出口壓力</th>\n",
       "      <th>出口溫度.1</th>\n",
       "      <th>出口流量</th>\n",
       "      <th>硫酸濃度</th>\n",
       "    </tr>\n",
       "  </thead>\n",
       "  <tbody>\n",
       "    <tr>\n",
       "      <th>2014/12/25</th>\n",
       "      <td>0.758747</td>\n",
       "      <td>0.591608</td>\n",
       "      <td>-0.866025</td>\n",
       "      <td>0.0</td>\n",
       "      <td>1.870829e+00</td>\n",
       "      <td>-0.885339</td>\n",
       "      <td>-0.236269</td>\n",
       "    </tr>\n",
       "    <tr>\n",
       "      <th>2014/12/26</th>\n",
       "      <td>0.133897</td>\n",
       "      <td>0.591608</td>\n",
       "      <td>-0.866025</td>\n",
       "      <td>0.0</td>\n",
       "      <td>-6.646519e-14</td>\n",
       "      <td>-0.929606</td>\n",
       "      <td>-1.666652</td>\n",
       "    </tr>\n",
       "    <tr>\n",
       "      <th>2014/12/27</th>\n",
       "      <td>1.071172</td>\n",
       "      <td>0.887412</td>\n",
       "      <td>-0.866025</td>\n",
       "      <td>0.0</td>\n",
       "      <td>-6.646519e-14</td>\n",
       "      <td>-0.767294</td>\n",
       "      <td>-0.370367</td>\n",
       "    </tr>\n",
       "    <tr>\n",
       "      <th>2014/12/28</th>\n",
       "      <td>0.446322</td>\n",
       "      <td>0.295804</td>\n",
       "      <td>-0.866025</td>\n",
       "      <td>0.0</td>\n",
       "      <td>-6.646519e-14</td>\n",
       "      <td>0.059023</td>\n",
       "      <td>-0.638564</td>\n",
       "    </tr>\n",
       "    <tr>\n",
       "      <th>2014/12/29</th>\n",
       "      <td>-0.803379</td>\n",
       "      <td>-0.887412</td>\n",
       "      <td>1.154701</td>\n",
       "      <td>0.0</td>\n",
       "      <td>-6.646519e-14</td>\n",
       "      <td>1.195208</td>\n",
       "      <td>0.389524</td>\n",
       "    </tr>\n",
       "    <tr>\n",
       "      <th>2014/12/30</th>\n",
       "      <td>-2.053080</td>\n",
       "      <td>-2.070628</td>\n",
       "      <td>1.154701</td>\n",
       "      <td>0.0</td>\n",
       "      <td>-1.870829e+00</td>\n",
       "      <td>1.770679</td>\n",
       "      <td>0.881218</td>\n",
       "    </tr>\n",
       "    <tr>\n",
       "      <th>2014/12/31</th>\n",
       "      <td>0.446322</td>\n",
       "      <td>0.591608</td>\n",
       "      <td>1.154701</td>\n",
       "      <td>0.0</td>\n",
       "      <td>-6.646519e-14</td>\n",
       "      <td>-0.442670</td>\n",
       "      <td>1.641109</td>\n",
       "    </tr>\n",
       "  </tbody>\n",
       "</table>\n",
       "</div>"
      ],
      "text/plain": [
       "                入口溫度      出口溫度      入口壓力  出口壓力        出口溫度.1      出口流量  \\\n",
       "2014/12/25  0.758747  0.591608 -0.866025   0.0  1.870829e+00 -0.885339   \n",
       "2014/12/26  0.133897  0.591608 -0.866025   0.0 -6.646519e-14 -0.929606   \n",
       "2014/12/27  1.071172  0.887412 -0.866025   0.0 -6.646519e-14 -0.767294   \n",
       "2014/12/28  0.446322  0.295804 -0.866025   0.0 -6.646519e-14  0.059023   \n",
       "2014/12/29 -0.803379 -0.887412  1.154701   0.0 -6.646519e-14  1.195208   \n",
       "2014/12/30 -2.053080 -2.070628  1.154701   0.0 -1.870829e+00  1.770679   \n",
       "2014/12/31  0.446322  0.591608  1.154701   0.0 -6.646519e-14 -0.442670   \n",
       "\n",
       "                硫酸濃度  \n",
       "2014/12/25 -0.236269  \n",
       "2014/12/26 -1.666652  \n",
       "2014/12/27 -0.370367  \n",
       "2014/12/28 -0.638564  \n",
       "2014/12/29  0.389524  \n",
       "2014/12/30  0.881218  \n",
       "2014/12/31  1.641109  "
      ]
     },
     "execution_count": 71,
     "metadata": {},
     "output_type": "execute_result"
    }
   ],
   "source": [
    "from sklearn.svm import SVR\n",
    "from sklearn.preprocessing import StandardScaler,MinMaxScaler\n",
    "真理 = 42\n",
    "model = SVR(C=真理,gamma=真理)\n",
    "ss = StandardScaler()\n",
    "#mm = MinMaxScaler()\n",
    "x_col = ['入口溫度','出口溫度','入口壓力','出口壓力','出口溫度.1','出口流量']\n",
    "y_col = '硫酸濃度'\n",
    "df_ss = df.copy()\n",
    "df_ss[:] = ss.fit_transform(df_ss[:])\n",
    "print(df_ss.shape)\n",
    "df_ss"
   ]
  },
  {
   "cell_type": "code",
   "execution_count": 72,
   "metadata": {},
   "outputs": [
    {
     "data": {
      "text/plain": [
       "1.6411091602363723"
      ]
     },
     "execution_count": 72,
     "metadata": {},
     "output_type": "execute_result"
    }
   ],
   "source": [
    "df_ss[y_col].max()"
   ]
  },
  {
   "cell_type": "code",
   "execution_count": 73,
   "metadata": {},
   "outputs": [
    {
     "data": {
      "text/plain": [
       "0.9899675302029113"
      ]
     },
     "execution_count": 73,
     "metadata": {},
     "output_type": "execute_result"
    }
   ],
   "source": [
    "x,y = df_ss[x_col],df_ss[y_col]\n",
    "model.fit(x,y)\n",
    "model.score(x,y)"
   ]
  },
  {
   "cell_type": "code",
   "execution_count": 74,
   "metadata": {},
   "outputs": [
    {
     "data": {
      "text/plain": [
       "-2.0530804763162833"
      ]
     },
     "execution_count": 74,
     "metadata": {},
     "output_type": "execute_result"
    }
   ],
   "source": [
    "df_ss.loc[:,x_col[0]].min()"
   ]
  },
  {
   "cell_type": "code",
   "execution_count": 75,
   "metadata": {},
   "outputs": [
    {
     "name": "stderr",
     "output_type": "stream",
     "text": [
      "\u001b[32m[I 2022-06-22 11:57:43,053]\u001b[0m A new study created in memory with name: no-name-24c7775d-026a-4e0c-8797-58a5a6e6abc5\u001b[0m\n",
      "\u001b[32m[I 2022-06-22 11:57:43,060]\u001b[0m Trial 0 finished with value: 0.6146948536358788 and parameters: {'入口溫度': 0.6377955771168098, '出口溫度': 0.13362969456394047, '入口壓力': 1.1094495004618405, '出口壓力': 0.0, '出口溫度.1': 0.5550389807291667, '出口流量': 0.8809090964406419}. Best is trial 0 with value: 0.6146948536358788.\u001b[0m\n",
      "\u001b[32m[I 2022-06-22 11:57:43,065]\u001b[0m Trial 1 finished with value: 0.6146948536358788 and parameters: {'入口溫度': 0.34404611736248114, '出口溫度': 0.5982374659523557, '入口壓力': 1.1179434903607512, '出口壓力': 0.0, '出口溫度.1': 1.4531102933080007, '出口流量': 1.5805540829295608}. Best is trial 0 with value: 0.6146948536358788.\u001b[0m\n",
      "\u001b[32m[I 2022-06-22 11:57:43,070]\u001b[0m Trial 2 finished with value: 0.6146948536358788 and parameters: {'入口溫度': 0.823112047689154, '出口溫度': 0.8435454225268278, '入口壓力': 0.9954343721430313, '出口壓力': 0.0, '出口溫度.1': 0.4779779366758955, '出口流量': 0.41244297411102254}. Best is trial 0 with value: 0.6146948536358788.\u001b[0m\n",
      "\u001b[32m[I 2022-06-22 11:57:43,076]\u001b[0m Trial 3 finished with value: 0.6146948536358788 and parameters: {'入口溫度': 0.11323785590144686, '出口溫度': 0.46754539644961085, '入口壓力': 0.28356575167835485, '出口壓力': 0.0, '出口溫度.1': 0.7874219312387732, '出口流量': 1.3340205747478806}. Best is trial 0 with value: 0.6146948536358788.\u001b[0m\n",
      "\u001b[32m[I 2022-06-22 11:57:43,081]\u001b[0m Trial 4 finished with value: 0.6146948536358788 and parameters: {'入口溫度': 0.17877078522226353, '出口溫度': 0.5049109203784575, '入口壓力': 0.5605637493638865, '出口壓力': 0.0, '出口溫度.1': 1.4213967088668495, '出口流量': 0.368587819760037}. Best is trial 0 with value: 0.6146948536358788.\u001b[0m\n",
      "\u001b[32m[I 2022-06-22 11:57:43,087]\u001b[0m Trial 5 finished with value: 0.6146948536358788 and parameters: {'入口溫度': 0.9580488782853401, '出口溫度': 0.6352875487436386, '入口壓力': 0.46783450329748794, '出口壓力': 0.0, '出口溫度.1': 1.5725658190731755, '出口流量': 0.05921855737335001}. Best is trial 0 with value: 0.6146948536358788.\u001b[0m\n",
      "\u001b[32m[I 2022-06-22 11:57:43,092]\u001b[0m Trial 6 finished with value: 0.6146948536358788 and parameters: {'入口溫度': 0.6879889794661611, '出口溫度': 0.7540397104998565, '入口壓力': 0.367450468928844, '出口壓力': 0.0, '出口溫度.1': 0.09943869483519437, '出口流量': 1.7435139642120643}. Best is trial 0 with value: 0.6146948536358788.\u001b[0m\n",
      "\u001b[32m[I 2022-06-22 11:57:43,098]\u001b[0m Trial 7 finished with value: 0.6146948536358788 and parameters: {'入口溫度': 1.0394439674521798, '出口溫度': 0.24638231211378248, '入口壓力': 0.36405688733946395, '出口壓力': 0.0, '出口溫度.1': 1.1339837255184126, '出口流量': 0.6555973293257403}. Best is trial 0 with value: 0.6146948536358788.\u001b[0m\n",
      "\u001b[32m[I 2022-06-22 11:57:43,103]\u001b[0m Trial 8 finished with value: 0.6146948536358788 and parameters: {'入口溫度': 0.2067455327947606, '出口溫度': 0.7014313774890274, '入口壓力': 0.19131110474766477, '出口壓力': 0.0, '出口溫度.1': 0.21180468777537645, '出口流量': 0.6323553615599179}. Best is trial 0 with value: 0.6146948536358788.\u001b[0m\n",
      "\u001b[32m[I 2022-06-22 11:57:43,108]\u001b[0m Trial 9 finished with value: 0.6146948536358788 and parameters: {'入口溫度': 1.006358958940924, '出口溫度': 0.014798710362148318, '入口壓力': 0.9154298552331448, '出口壓力': 0.0, '出口溫度.1': 1.8036525348451786, '出口流量': 0.08455840404003376}. Best is trial 0 with value: 0.6146948536358788.\u001b[0m\n",
      "\u001b[32m[I 2022-06-22 11:57:43,118]\u001b[0m Trial 10 finished with value: 0.6146948536358788 and parameters: {'入口溫度': 0.5000311952687136, '出口溫度': 0.004085244493311102, '入口壓力': 0.7791348215373147, '出口壓力': 0.0, '出口溫度.1': 0.7447118921769061, '出口流量': 1.190787247225117}. Best is trial 0 with value: 0.6146948536358788.\u001b[0m\n",
      "\u001b[32m[I 2022-06-22 11:57:43,132]\u001b[0m Trial 11 finished with value: 0.6146948536358788 and parameters: {'入口溫度': 0.3896761253227627, '出口溫度': 0.2383885285633029, '入口壓力': 1.1246988188654894, '出口壓力': 0.0, '出口溫度.1': 1.1375805507480194, '出口流量': 1.0855469330389522}. Best is trial 0 with value: 0.6146948536358788.\u001b[0m\n",
      "\u001b[32m[I 2022-06-22 11:57:43,142]\u001b[0m Trial 12 finished with value: 0.6146948536358788 and parameters: {'入口溫度': 0.37042549833734306, '出口溫度': 0.24791747616993937, '入口壓力': 1.1370861538296315, '出口壓力': 0.0, '出口溫度.1': 0.4617844655158756, '出口流量': 1.6753592382847038}. Best is trial 0 with value: 0.6146948536358788.\u001b[0m\n",
      "\u001b[32m[I 2022-06-22 11:57:43,152]\u001b[0m Trial 13 finished with value: 0.6146948536358788 and parameters: {'入口溫度': 0.64429858344323, '出口溫度': 0.5927456174309242, '入口壓力': 0.023880546455051332, '出口壓力': 0.0, '出口溫度.1': 1.7852697260694446, '出口流量': 1.4518891665846665}. Best is trial 0 with value: 0.6146948536358788.\u001b[0m\n",
      "\u001b[32m[I 2022-06-22 11:57:43,160]\u001b[0m Trial 14 finished with value: 0.6146948536358788 and parameters: {'入口溫度': 0.356783306507899, '出口溫度': 0.3330770780386827, '入口壓力': 0.769469674697622, '出口壓力': 0.0, '出口溫度.1': 1.286051496148257, '出口流量': 0.8970055434636544}. Best is trial 0 with value: 0.6146948536358788.\u001b[0m\n",
      "\u001b[32m[I 2022-06-22 11:57:43,168]\u001b[0m Trial 15 finished with value: 0.6146948536358788 and parameters: {'入口溫度': 0.6541110872320843, '出口溫度': 0.09501660006395576, '入口壓力': 0.9815403287300979, '出口壓力': 0.0, '出口溫度.1': 0.5284213039635307, '出口流量': 0.8752388624607685}. Best is trial 0 with value: 0.6146948536358788.\u001b[0m\n",
      "\u001b[32m[I 2022-06-22 11:57:43,177]\u001b[0m Trial 16 finished with value: 0.6146948536358788 and parameters: {'入口溫度': 0.020679755738619854, '出口溫度': 0.3850653315903753, '入口壓力': 1.1538489718942877, '出口壓力': 0.0, '出口溫度.1': 0.9175469118644319, '出口流量': 1.47221100615232}. Best is trial 0 with value: 0.6146948536358788.\u001b[0m\n",
      "\u001b[32m[I 2022-06-22 11:57:43,189]\u001b[0m Trial 17 finished with value: 0.6146948536358788 and parameters: {'入口溫度': 0.5007854441418352, '出口溫度': 0.35861298017610693, '入口壓力': 0.7449179091742661, '出口壓力': 0.0, '出口溫度.1': 1.194818862339852, '出口流量': 0.9373252702246312}. Best is trial 0 with value: 0.6146948536358788.\u001b[0m\n",
      "\u001b[32m[I 2022-06-22 11:57:43,202]\u001b[0m Trial 18 finished with value: 0.6146948536358788 and parameters: {'入口溫度': 0.7515320499277707, '出口溫度': 0.09303880023108127, '入口壓力': 0.9866493242467492, '出口壓力': 0.0, '出口溫度.1': 0.4259408984263585, '出口流量': 0.6763092463457834}. Best is trial 0 with value: 0.6146948536358788.\u001b[0m\n",
      "\u001b[32m[I 2022-06-22 11:57:43,212]\u001b[0m Trial 19 finished with value: 0.6146948536358788 and parameters: {'入口溫度': 0.002482721609931904, '出口溫度': 0.11314718066423209, '入口壓力': 0.8643392698683692, '出口壓力': 0.0, '出口溫度.1': 0.880778007721207, '出口流量': 1.2225919399688538}. Best is trial 0 with value: 0.6146948536358788.\u001b[0m\n",
      "\u001b[32m[I 2022-06-22 11:57:43,221]\u001b[0m Trial 20 finished with value: 0.6146948536358788 and parameters: {'入口溫度': 0.5152170633621392, '出口溫度': 0.17259407276526706, '入口壓力': 0.6614879032994954, '出口壓力': 0.0, '出口溫度.1': 1.1102903833722455, '出口流量': 0.963761062255936}. Best is trial 0 with value: 0.6146948536358788.\u001b[0m\n",
      "\u001b[32m[I 2022-06-22 11:57:43,229]\u001b[0m Trial 21 finished with value: 0.6146948536358788 and parameters: {'入口溫度': 0.7655342608123558, '出口溫度': 0.10927745275223781, '入口壓力': 1.0428296434785478, '出口壓力': 0.0, '出口溫度.1': 0.237004464471118, '出口流量': 0.7323566072272091}. Best is trial 0 with value: 0.6146948536358788.\u001b[0m\n",
      "\u001b[32m[I 2022-06-22 11:57:43,238]\u001b[0m Trial 22 finished with value: 0.6146948536358788 and parameters: {'入口溫度': 0.9013918494795758, '出口溫度': 0.08666901260004542, '入口壓力': 0.8831009992131771, '出口壓力': 0.0, '出口溫度.1': 0.6695117206727454, '出口流量': 0.44129685631547777}. Best is trial 0 with value: 0.6146948536358788.\u001b[0m\n",
      "\u001b[32m[I 2022-06-22 11:57:43,247]\u001b[0m Trial 23 finished with value: 0.6146948536358788 and parameters: {'入口溫度': 0.6149932453649712, '出口溫度': 0.1768535316276492, '入口壓力': 0.6239490006402808, '出口壓力': 0.0, '出口溫度.1': 0.9651355522137024, '出口流量': 1.138493233286842}. Best is trial 0 with value: 0.6146948536358788.\u001b[0m\n",
      "\u001b[32m[I 2022-06-22 11:57:43,256]\u001b[0m Trial 24 finished with value: 0.6146948536358788 and parameters: {'入口溫度': 0.8075025387709559, '出口溫度': 0.1762136314086783, '入口壓力': 0.6489348301196055, '出口壓力': 0.0, '出口溫度.1': 0.2743442991580486, '出口流量': 0.7831314105116363}. Best is trial 0 with value: 0.6146948536358788.\u001b[0m\n",
      "\u001b[32m[I 2022-06-22 11:57:43,266]\u001b[0m Trial 25 finished with value: 0.6146948536358788 and parameters: {'入口溫度': 0.9124002517997377, '出口溫度': 0.04225932378258769, '入口壓力': 1.0571055483377443, '出口壓力': 0.0, '出口溫度.1': 0.703187212179692, '出口流量': 0.3579507819763603}. Best is trial 0 with value: 0.6146948536358788.\u001b[0m\n",
      "\u001b[32m[I 2022-06-22 11:57:43,275]\u001b[0m Trial 26 finished with value: 0.6146948536358788 and parameters: {'入口溫度': 0.5866029925119586, '出口溫度': 0.21553830287326325, '入口壓力': 0.8768863295077163, '出口壓力': 0.0, '出口溫度.1': 0.5927369344682463, '出口流量': 0.5070720654827838}. Best is trial 0 with value: 0.6146948536358788.\u001b[0m\n",
      "\u001b[32m[I 2022-06-22 11:57:43,287]\u001b[0m Trial 27 finished with value: 0.6146948536358788 and parameters: {'入口溫度': 0.8119156045247959, '出口溫度': 0.29115496356045156, '入口壓力': 0.6121201993825682, '出口壓力': 0.0, '出口溫度.1': 0.31042736907768975, '出口流量': 1.0354060235400204}. Best is trial 0 with value: 0.6146948536358788.\u001b[0m\n",
      "\u001b[32m[I 2022-06-22 11:57:43,296]\u001b[0m Trial 28 finished with value: 0.6146948536358788 and parameters: {'入口溫度': 0.8942639949447465, '出口溫度': 0.01566689444667127, '入口壓力': 1.0612205745712906, '出口壓力': 0.0, '出口溫度.1': 0.08536893246402388, '出口流量': 0.23747195015281636}. Best is trial 0 with value: 0.6146948536358788.\u001b[0m\n",
      "\u001b[32m[I 2022-06-22 11:57:43,305]\u001b[0m Trial 29 finished with value: 0.6146948536358788 and parameters: {'入口溫度': 0.5883465110207273, '出口溫度': 0.04145993053282871, '入口壓力': 1.0736906725620636, '出口壓力': 0.0, '出口溫度.1': 0.6093678069180206, '出口流量': 0.5351045047284527}. Best is trial 0 with value: 0.6146948536358788.\u001b[0m\n",
      "\u001b[32m[I 2022-06-22 11:57:43,315]\u001b[0m Trial 30 finished with value: 0.6146948536358788 and parameters: {'入口溫度': 0.4220974385088279, '出口溫度': 0.312607477273094, '入口壓力': 0.4758153180999636, '出口壓力': 0.0, '出口溫度.1': 0.2852356659972149, '出口流量': 1.0561675044867067}. Best is trial 0 with value: 0.6146948536358788.\u001b[0m\n",
      "\u001b[32m[I 2022-06-22 11:57:43,325]\u001b[0m Trial 31 finished with value: 0.6146948536360595 and parameters: {'入口溫度': 0.7253871733160125, '出口溫度': 0.3000502599564218, '入口壓力': 0.8329028986137543, '出口壓力': 0.0, '出口溫度.1': 0.04403752524400325, '出口流量': 0.20320093672388684}. Best is trial 0 with value: 0.6146948536358788.\u001b[0m\n",
      "\u001b[32m[I 2022-06-22 11:57:43,338]\u001b[0m Trial 32 finished with value: 0.6146948536358788 and parameters: {'入口溫度': 0.8701080517421442, '出口溫度': 0.048940572217076095, '入口壓力': 1.0720332608773988, '出口壓力': 0.0, '出口溫度.1': 0.4090213302337441, '出口流量': 0.19797970680017046}. Best is trial 0 with value: 0.6146948536358788.\u001b[0m\n",
      "\u001b[32m[I 2022-06-22 11:57:43,349]\u001b[0m Trial 33 finished with value: 0.6146948536358788 and parameters: {'入口溫度': 0.4319592554287916, '出口溫度': 0.0075696209781589835, '入口壓力': 0.5113793607813271, '出口壓力': 0.0, '出口溫度.1': 0.09602773780459262, '出口流量': 0.5554163164699183}. Best is trial 0 with value: 0.6146948536358788.\u001b[0m\n",
      "\u001b[32m[I 2022-06-22 11:57:43,361]\u001b[0m Trial 34 finished with value: 0.6146948536358788 and parameters: {'入口溫度': 0.25204861575540954, '出口溫度': 0.45311635851376925, '入口壓力': 0.44306726709431615, '出口壓力': 0.0, '出口溫度.1': 0.588227407758915, '出口流量': 0.2623606986621987}. Best is trial 0 with value: 0.6146948536358788.\u001b[0m\n",
      "\u001b[32m[I 2022-06-22 11:57:43,372]\u001b[0m Trial 35 finished with value: 0.6146948536358788 and parameters: {'入口溫度': 0.30012645293641743, '出口溫度': 0.15049876001773788, '入口壓力': 0.19097887739794983, '出口壓力': 0.0, '出口溫度.1': 0.3756166993049791, '出口流量': 0.791636374836291}. Best is trial 0 with value: 0.6146948536358788.\u001b[0m\n",
      "\u001b[32m[I 2022-06-22 11:57:43,382]\u001b[0m Trial 36 finished with value: 0.6146948536358788 and parameters: {'入口溫度': 0.0029754766545349036, '出口溫度': 0.1313324423476637, '入口壓力': 0.6927198962459638, '出口壓力': 0.0, '出口溫度.1': 0.8637817908722986, '出口流量': 1.2365301079053197}. Best is trial 0 with value: 0.6146948536358788.\u001b[0m\n",
      "\u001b[32m[I 2022-06-22 11:57:43,394]\u001b[0m Trial 37 finished with value: 0.6146948536358788 and parameters: {'入口溫度': 0.7496132713584798, '出口溫度': 0.06755245600449425, '入口壓力': 0.9344163041786353, '出口壓力': 0.0, '出口溫度.1': 1.038447381409458, '出口流量': 0.9616128416340101}. Best is trial 0 with value: 0.6146948536358788.\u001b[0m\n",
      "\u001b[32m[I 2022-06-22 11:57:43,405]\u001b[0m Trial 38 finished with value: 0.6146948536358788 and parameters: {'入口溫度': 0.5336842924019491, '出口溫度': 0.18887393500975452, '入口壓力': 0.9609880757069544, '出口壓力': 0.0, '出口溫度.1': 1.4206745471410356, '出口流量': 0.7609119136726911}. Best is trial 0 with value: 0.6146948536358788.\u001b[0m\n",
      "\u001b[32m[I 2022-06-22 11:57:43,415]\u001b[0m Trial 39 finished with value: 0.6146948536358788 and parameters: {'入口溫度': 0.9710722947100104, '出口溫度': 0.13077437321241053, '入口壓力': 0.5593964298887223, '出口壓力': 0.0, '出口溫度.1': 0.9906490639028844, '出口流量': 0.6851553156371557}. Best is trial 0 with value: 0.6146948536358788.\u001b[0m\n",
      "\u001b[32m[I 2022-06-22 11:57:43,426]\u001b[0m Trial 40 finished with value: 0.6146948536358788 and parameters: {'入口溫度': 0.6036593195699106, '出口溫度': 0.8837678609063213, '入口壓力': 1.0199898253736106, '出口壓力': 0.0, '出口溫度.1': 0.6889426187611594, '出口流量': 1.3622109357845051}. Best is trial 0 with value: 0.6146948536358788.\u001b[0m\n",
      "\u001b[32m[I 2022-06-22 11:57:43,438]\u001b[0m Trial 41 finished with value: 0.6146948536358788 and parameters: {'入口溫度': 0.892299374407493, '出口溫度': 0.1926298520132981, '入口壓力': 0.6542128035052888, '出口壓力': 0.0, '出口溫度.1': 0.7684171945725451, '出口流量': 0.3671691805725995}. Best is trial 0 with value: 0.6146948536358788.\u001b[0m\n"
     ]
    }
   ],
   "source": [
    "import optuna\n",
    "import numpy as np\n",
    "request = {} \n",
    "request['output'] = df_ss[y_col].max()\n",
    "def objective(trial: optuna.Trial):\n",
    "  Input_df = pd.DataFrame(\n",
    "    index = [0],\n",
    "    columns = x_col\n",
    "    )\n",
    "  for key in x_col:\n",
    "    Input_df.loc[0,key] = trial.suggest_uniform(\n",
    "      name = key,\n",
    "      low = max(df_ss.loc[:,key].min(),0),\n",
    "      high = df_ss.loc[:,key].max()\n",
    "      )\n",
    "  output_df = model.predict(Input_df)\n",
    "  output = output_df[0]\n",
    "  total_loss = np.sqrt((request['output']-output)**2) #L1 LOSS\n",
    "  return 1/total_loss # 求最大值\n",
    "\n",
    "study = optuna.create_study()\n",
    "study.optimize(objective, n_trials=真理)"
   ]
  },
  {
   "cell_type": "code",
   "execution_count": 76,
   "metadata": {},
   "outputs": [
    {
     "data": {
      "text/plain": [
       "{'入口溫度': 0.6377955771168098,\n",
       " '出口溫度': 0.13362969456394047,\n",
       " '入口壓力': 1.1094495004618405,\n",
       " '出口壓力': 0.0,\n",
       " '出口溫度.1': 0.5550389807291667,\n",
       " '出口流量': 0.8809090964406419}"
      ]
     },
     "execution_count": 76,
     "metadata": {},
     "output_type": "execute_result"
    }
   ],
   "source": [
    "study.best_params"
   ]
  },
  {
   "cell_type": "code",
   "execution_count": 77,
   "metadata": {},
   "outputs": [
    {
     "data": {
      "text/plain": [
       "0.014285714285804971"
      ]
     },
     "execution_count": 77,
     "metadata": {},
     "output_type": "execute_result"
    }
   ],
   "source": [
    "model.predict(pd.DataFrame(study.best_params,index=[0]))[0]"
   ]
  },
  {
   "cell_type": "code",
   "execution_count": 78,
   "metadata": {},
   "outputs": [
    {
     "name": "stdout",
     "output_type": "stream",
     "text": [
      "r2_score: 0.9899675302029113\n",
      "answer:\n"
     ]
    },
    {
     "data": {
      "text/html": [
       "<div>\n",
       "<style scoped>\n",
       "    .dataframe tbody tr th:only-of-type {\n",
       "        vertical-align: middle;\n",
       "    }\n",
       "\n",
       "    .dataframe tbody tr th {\n",
       "        vertical-align: top;\n",
       "    }\n",
       "\n",
       "    .dataframe thead th {\n",
       "        text-align: right;\n",
       "    }\n",
       "</style>\n",
       "<table border=\"1\" class=\"dataframe\">\n",
       "  <thead>\n",
       "    <tr style=\"text-align: right;\">\n",
       "      <th></th>\n",
       "      <th>入口溫度</th>\n",
       "      <th>出口溫度</th>\n",
       "      <th>入口壓力</th>\n",
       "      <th>出口壓力</th>\n",
       "      <th>出口溫度.1</th>\n",
       "      <th>出口流量</th>\n",
       "      <th>硫酸濃度</th>\n",
       "    </tr>\n",
       "  </thead>\n",
       "  <tbody>\n",
       "    <tr>\n",
       "      <th>0</th>\n",
       "      <td>8.061286</td>\n",
       "      <td>66.045175</td>\n",
       "      <td>0.197761</td>\n",
       "      <td>4.8</td>\n",
       "      <td>28.429668</td>\n",
       "      <td>243.369976</td>\n",
       "      <td>92.036053</td>\n",
       "    </tr>\n",
       "  </tbody>\n",
       "</table>\n",
       "</div>"
      ],
      "text/plain": [
       "       入口溫度       出口溫度      入口壓力  出口壓力     出口溫度.1        出口流量       硫酸濃度\n",
       "0  8.061286  66.045175  0.197761   4.8  28.429668  243.369976  92.036053"
      ]
     },
     "execution_count": 78,
     "metadata": {},
     "output_type": "execute_result"
    }
   ],
   "source": [
    "df_answer = pd.DataFrame()\n",
    "for i in study.best_params:\n",
    "    df_answer[i] = [study.best_params[i]]\n",
    "df_answer[y_col] = model.predict(pd.DataFrame(study.best_params,index=[0]))[0]\n",
    "df_answer[:] = ss.inverse_transform(df_answer[:])\n",
    "print('r2_score:',model.score(x,y))\n",
    "print('answer:')\n",
    "df_answer"
   ]
  },
  {
   "cell_type": "code",
   "execution_count": null,
   "metadata": {},
   "outputs": [],
   "source": []
  }
 ],
 "metadata": {
  "kernelspec": {
   "display_name": "Python 3.8.5 ('base')",
   "language": "python",
   "name": "python3"
  },
  "language_info": {
   "codemirror_mode": {
    "name": "ipython",
    "version": 3
   },
   "file_extension": ".py",
   "mimetype": "text/x-python",
   "name": "python",
   "nbconvert_exporter": "python",
   "pygments_lexer": "ipython3",
   "version": "3.8.5"
  },
  "orig_nbformat": 4,
  "vscode": {
   "interpreter": {
    "hash": "709221cd6e8e8bb1271bebb288222f3d75e028518a70d134b83bcc07aeaab82d"
   }
  }
 },
 "nbformat": 4,
 "nbformat_minor": 2
}
